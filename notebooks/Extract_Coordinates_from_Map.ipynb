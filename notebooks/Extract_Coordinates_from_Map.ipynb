{
 "cells": [
  {
   "cell_type": "code",
   "execution_count": 1,
   "id": "a747f344-c021-4fc7-8f83-1ed0403b3abb",
   "metadata": {},
   "outputs": [],
   "source": [
    "from ipywidgets import Label\n",
    "from ipyleaflet import Map, Marker"
   ]
  },
  {
   "cell_type": "code",
   "execution_count": 15,
   "id": "dc36c9af-c0f1-4583-9df5-4e55b14f08ca",
   "metadata": {},
   "outputs": [],
   "source": [
    "#create map\n",
    "globe = Map(center=(60.1699, 24.9384), zoom=5)"
   ]
  },
  {
   "cell_type": "code",
   "execution_count": 17,
   "id": "b6829a4f-5246-4d0e-9c0c-4a62b473f0c4",
   "metadata": {},
   "outputs": [
    {
     "data": {
      "application/vnd.jupyter.widget-view+json": {
       "model_id": "36d457a0c75a45adb2348ee5ced0b3d1",
       "version_major": 2,
       "version_minor": 0
      },
      "text/plain": [
       "Label(value='')"
      ]
     },
     "metadata": {},
     "output_type": "display_data"
    }
   ],
   "source": [
    "#create an instance of the label\n",
    "label = Label()\n",
    "display(label)"
   ]
  },
  {
   "cell_type": "code",
   "execution_count": 19,
   "id": "996fe318-a524-4dd0-87b4-85093bba4a62",
   "metadata": {},
   "outputs": [],
   "source": [
    "#create a function to handle interactions\n",
    "def handle_interactions(**kwargs):\n",
    "\n",
    "    #add a click functionality\n",
    "    if kwargs.get(\"type\") == 'click':\n",
    "        #get coordinates of the area that has been clicked\n",
    "        lat, lon = kwargs.get('coordinates')\n",
    "\n",
    "        #save this in the label value\n",
    "        label.value = f\"Clicked on: {lat}, {lon}\" \n",
    "\n",
    "        #add a marker to the clicked location\n",
    "        marker = Marker(location=(lat, lon))\n",
    "\n",
    "        #add marker to the map\n",
    "        globe.add_layer(marker)"
   ]
  },
  {
   "cell_type": "code",
   "execution_count": 21,
   "id": "d792033b-7509-4714-9ba0-29417a7e2f4f",
   "metadata": {},
   "outputs": [],
   "source": [
    "#add interactions to the map\n",
    "globe.on_interaction(handle_interactions)"
   ]
  },
  {
   "cell_type": "code",
   "execution_count": 23,
   "id": "379b1bd9-2b75-4e8c-aaea-d96136cb63ad",
   "metadata": {},
   "outputs": [
    {
     "data": {
      "application/vnd.jupyter.widget-view+json": {
       "model_id": "fc9824d51aea4492bfb076b2fb9c59a8",
       "version_major": 2,
       "version_minor": 0
      },
      "text/plain": [
       "Map(center=[60.1699, 24.9384], controls=(ZoomControl(options=['position', 'zoom_in_text', 'zoom_in_title', 'zo…"
      ]
     },
     "metadata": {},
     "output_type": "display_data"
    }
   ],
   "source": [
    "#display mao\n",
    "display(globe)"
   ]
  },
  {
   "cell_type": "code",
   "execution_count": null,
   "id": "f200103a-0e08-40d8-b359-854b760426d4",
   "metadata": {},
   "outputs": [],
   "source": []
  }
 ],
 "metadata": {
  "kernelspec": {
   "display_name": "Python [conda env:base] *",
   "language": "python",
   "name": "conda-base-py"
  },
  "language_info": {
   "codemirror_mode": {
    "name": "ipython",
    "version": 3
   },
   "file_extension": ".py",
   "mimetype": "text/x-python",
   "name": "python",
   "nbconvert_exporter": "python",
   "pygments_lexer": "ipython3",
   "version": "3.12.7"
  }
 },
 "nbformat": 4,
 "nbformat_minor": 5
}
