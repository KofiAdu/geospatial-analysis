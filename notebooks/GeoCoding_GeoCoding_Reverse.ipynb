{
 "cells": [
  {
   "cell_type": "markdown",
   "id": "45d3454f-3717-4ef2-aea4-0b466595f0ae",
   "metadata": {},
   "source": [
    "## Geocoding\n",
    "Converting an address to geographic coordinates like latitude and longitude"
   ]
  },
  {
   "cell_type": "code",
   "execution_count": 4,
   "id": "83458d2f-14a0-4c71-b766-bf9c20d13f6d",
   "metadata": {},
   "outputs": [],
   "source": [
    "from geopy.geocoders import Nominatim"
   ]
  },
  {
   "cell_type": "code",
   "execution_count": 6,
   "id": "89cbb695-5c15-4b6d-8b2c-8a2fbc7d3256",
   "metadata": {},
   "outputs": [],
   "source": [
    "#create an instance of Nominatim and set the user_agent='geo_coder'\n",
    "geolocator = Nominatim(user_agent='geo_coder')"
   ]
  },
  {
   "cell_type": "code",
   "execution_count": 8,
   "id": "d539c26c-e41f-40a3-967c-44f928432297",
   "metadata": {},
   "outputs": [],
   "source": [
    "#set an address\n",
    "address = \"Kuninkaankatu 18 A 18, 70100, Kuopio, Finland \""
   ]
  },
  {
   "cell_type": "code",
   "execution_count": 10,
   "id": "61a444c4-217e-47e7-9ac4-36f5734f50a3",
   "metadata": {},
   "outputs": [
    {
     "name": "stdout",
     "output_type": "stream",
     "text": [
      "Address Kuninkaankatu 18 A 18, 70100, Kuopio, Finland \n",
      "Latitude: 62.8921781, Longitude: 27.6850665\n"
     ]
    }
   ],
   "source": [
    "#geocoding\n",
    "try:\n",
    "\n",
    "    #specify the locator\n",
    "    location = geolocator.geocode(address)\n",
    "    if location:\n",
    "        print(f\"Address {address}\")\n",
    "        print(f\"Latitude: {location.latitude}, Longitude: {location.longitude}\")\n",
    "\n",
    "except Exception as e:\n",
    "    print(e)"
   ]
  },
  {
   "cell_type": "code",
   "execution_count": null,
   "id": "8cbbb2a6-6f24-4315-be67-becced609ebe",
   "metadata": {},
   "outputs": [],
   "source": []
  },
  {
   "cell_type": "markdown",
   "id": "edb1dda0-4f56-480e-b21f-d3ae3b4d00e7",
   "metadata": {},
   "source": [
    "## Reverse Geocoding\n",
    "The opposite of geocoding, converting latitude and longitude to an address"
   ]
  },
  {
   "cell_type": "code",
   "execution_count": 15,
   "id": "a0441dfe-d302-421b-9d1f-eeb2b4059cdd",
   "metadata": {},
   "outputs": [],
   "source": [
    "#create an instance of Nominatim and set the user_agent='geo_coder'\n",
    "geolocator = Nominatim(user_agent='geo_coder')"
   ]
  },
  {
   "cell_type": "code",
   "execution_count": 17,
   "id": "31a031ff-81e7-4375-a93a-4ea696dbe87a",
   "metadata": {},
   "outputs": [],
   "source": [
    "#get the coordinates\n",
    "latitude = 62.8921781\n",
    "longitude = 27.6850665"
   ]
  },
  {
   "cell_type": "code",
   "execution_count": 19,
   "id": "914d30e7-4fb6-4c91-ba62-d74863afb701",
   "metadata": {},
   "outputs": [
    {
     "name": "stdout",
     "output_type": "stream",
     "text": [
      "Latitude: 62.8925629, Longitude: 27.6846478\n",
      "Address: 20, Kuninkaankatu, Vahtivuori, Kuopio, Kuopion seutukunta, Pohjois-Savo, Manner-Suomi, 70100, Suomi / Finland\n"
     ]
    }
   ],
   "source": [
    "#reverse geocoding\n",
    "try:\n",
    "    location = geolocator.reverse((latitude, longitude), exactly_one=True)\n",
    "    if location:\n",
    "        print(f\"Latitude: {location.latitude}, Longitude: {location.longitude}\")\n",
    "        print(f\"Address: {location.address}\")\n",
    "    else:\n",
    "        print(f\"No address found for thes coordinates Latitude: {location.latitude}, Longitude: {location.longitude}\")\n",
    "except Exception as e:\n",
    "    print(e)"
   ]
  },
  {
   "cell_type": "code",
   "execution_count": null,
   "id": "faa09e17-547e-4795-ba7d-5307c7494773",
   "metadata": {},
   "outputs": [],
   "source": []
  }
 ],
 "metadata": {
  "kernelspec": {
   "display_name": "Python [conda env:base] *",
   "language": "python",
   "name": "conda-base-py"
  },
  "language_info": {
   "codemirror_mode": {
    "name": "ipython",
    "version": 3
   },
   "file_extension": ".py",
   "mimetype": "text/x-python",
   "name": "python",
   "nbconvert_exporter": "python",
   "pygments_lexer": "ipython3",
   "version": "3.12.7"
  }
 },
 "nbformat": 4,
 "nbformat_minor": 5
}
