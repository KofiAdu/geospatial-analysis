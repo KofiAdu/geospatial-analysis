{
 "cells": [
  {
   "cell_type": "code",
   "execution_count": 77,
   "id": "40566209-b9a7-446a-89ca-9a269540f616",
   "metadata": {},
   "outputs": [],
   "source": [
    "from ipyleaflet import Map, Marker, CircleMarker, basemaps, LayersControl\n",
    "from geopy.geocoders import Nominatim\n",
    "from geopy.distance import great_circle"
   ]
  },
  {
   "cell_type": "code",
   "execution_count": 79,
   "id": "0c13fd72-bfcc-468e-892c-d83b63b5942b",
   "metadata": {},
   "outputs": [],
   "source": [
    "#get coordinates based on city name\n",
    "def geocode_city(city_name):\n",
    "    geolocator = Nominatim(user_agent=\"geo_analysis\")\n",
    "    location = geolocator.geocode(city_name)\n",
    "    return (location.latitude, location.longitude)"
   ]
  },
  {
   "cell_type": "code",
   "execution_count": 81,
   "id": "ba1c1c51-6bd2-4414-b47e-d63ee5b1dbba",
   "metadata": {},
   "outputs": [],
   "source": [
    "#calculate distance\n",
    "def calculate_distance(p1, p2):\n",
    "    return great_circle(p1,p2).kilometers"
   ]
  },
  {
   "cell_type": "code",
   "execution_count": 83,
   "id": "93357945-b4a9-4659-896d-dd6e6cac0c5f",
   "metadata": {},
   "outputs": [
    {
     "name": "stdin",
     "output_type": "stream",
     "text": [
      "Enter city name to find nearby big cities:  kuopio\n"
     ]
    },
    {
     "name": "stdout",
     "output_type": "stream",
     "text": [
      "Coordinates of kuopio: (62.8924601, 27.6781839)\n"
     ]
    },
    {
     "data": {
      "application/vnd.jupyter.widget-view+json": {
       "model_id": "9590eac941f24705a581dcf5e9d65f9f",
       "version_major": 2,
       "version_minor": 0
      },
      "text/plain": [
       "Map(center=[62.8924601, 27.6781839], controls=(ZoomControl(options=['position', 'zoom_in_text', 'zoom_in_title…"
      ]
     },
     "metadata": {},
     "output_type": "display_data"
    }
   ],
   "source": [
    "#get user input\n",
    "if __name__ == \"__main__\":\n",
    "    city_name = input(\"Enter city name to find nearby big cities: \")\n",
    "    city_coords = geocode_city(city_name)\n",
    "    print(f\"Coordinates of {city_name}: {city_coords}\")\n",
    "\n",
    "    #a dictionary of big cities to base the calculations on\n",
    "    finland_cities = {\n",
    "        \"Helsinki\": (60.1695, 24.9354),\n",
    "        \"Espoo\": (60.2055, 24.6559),\n",
    "        \"Tampere\": (61.4978, 23.7610),\n",
    "        \"Vantaa\": (60.2934, 25.0378),\n",
    "        \"Oulu\": (65.0121, 25.4651),\n",
    "        \"Turku\": (60.4518, 22.2666),\n",
    "        \"Jyväskylä\": (62.2415, 25.7209),\n",
    "        \"Lahti\": (60.9827, 25.6615),\n",
    "        \"Kuopio\": (62.8924, 27.6770),\n",
    "        \"Pori\": (61.4850, 21.7976),\n",
    "        \"Lappeenranta\": (61.0583, 28.1887),\n",
    "        \"Vaasa\": (63.0951, 21.6158),\n",
    "        \"Joensuu\": (62.6010, 29.7636),\n",
    "        \"Rovaniemi\": (66.5039, 25.7294),\n",
    "        \"Seinäjoki\": (62.7903, 22.8406),\n",
    "        \"Kotka\": (60.4667, 26.9458),\n",
    "        \"Salo\": (60.3833, 23.1333),\n",
    "        \"Porvoo\": (60.3932, 25.6632),\n",
    "        \"Kokkola\": (63.8371, 23.1306),\n",
    "        \"Hyvinkää\": (60.6333, 24.8636)\n",
    "    }\n",
    "\n",
    "\n",
    "    #dictionary of the closest cities\n",
    "    nearby_cities = {}\n",
    "\n",
    "    for city, coords in finland_cities.items():\n",
    "\n",
    "        #skip the input city itself\n",
    "        #\n",
    "        if city.lower() == city_name.lower():\n",
    "            continue  \n",
    "        \n",
    "        #calculating the distance based on the input city and each city coordinates in the list\n",
    "        distance = calculate_distance(city_coords, coords)\n",
    "\n",
    "        if distance <=500:\n",
    "            #add to dictionary\n",
    "           nearby_cities[city] = coords \n",
    "            \n",
    "    #create a map to visualize results\n",
    "    map_view = Map(center=(city_coords[0], city_coords[1]), zoom=6, basemap=basemaps.OpenStreetMap.Mapnik)\n",
    "\n",
    "    \n",
    "    #create an input marker\n",
    "    input_city_marker = Marker(location=(city_coords[0], city_coords[1]), title=city_name)\n",
    "\n",
    "\n",
    "    #add to map\n",
    "    map_view.add_layer(input_city_marker)\n",
    "\n",
    "    #add marker for each nearby city\n",
    "    for city, coords in nearby_cities.items():\n",
    "        marker = CircleMarker(location=(coords[0], coords[1]), radius=6, color='green', fill_color='green', fill_opacity=0.6)\n",
    "        map_view.add_layer(marker)\n",
    "        \n",
    "    map_view.add_control(LayersControl())\n",
    "    display(map_view)\n",
    "\n"
   ]
  },
  {
   "cell_type": "code",
   "execution_count": null,
   "id": "c7528724-0f68-4b65-9d00-1b5f3fb939c1",
   "metadata": {},
   "outputs": [],
   "source": []
  }
 ],
 "metadata": {
  "kernelspec": {
   "display_name": "Python [conda env:base] *",
   "language": "python",
   "name": "conda-base-py"
  },
  "language_info": {
   "codemirror_mode": {
    "name": "ipython",
    "version": 3
   },
   "file_extension": ".py",
   "mimetype": "text/x-python",
   "name": "python",
   "nbconvert_exporter": "python",
   "pygments_lexer": "ipython3",
   "version": "3.12.7"
  }
 },
 "nbformat": 4,
 "nbformat_minor": 5
}
